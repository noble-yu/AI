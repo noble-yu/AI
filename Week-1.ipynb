{
 "cells": [
  {
   "cell_type": "markdown",
   "id": "66ddffd9-1b5f-4379-a352-1a1ff2fb2877",
   "metadata": {},
   "source": [
    "Day 1 learning pandas!"
   ]
  },
  {
   "cell_type": "code",
   "execution_count": 146,
   "id": "73d7a48d-19fa-4431-a959-3eb09b5055a2",
   "metadata": {},
   "outputs": [],
   "source": [
    "import pandas as pd"
   ]
  },
  {
   "cell_type": "code",
   "execution_count": 147,
   "id": "119557a1-d762-470f-a324-c0396d79d348",
   "metadata": {},
   "outputs": [],
   "source": [
    "# 2 main datatypes\n",
    "series = pd.Series([\"feetsAI\",\"OpenAI\",\"xAI\"])"
   ]
  },
  {
   "cell_type": "code",
   "execution_count": 148,
   "id": "121cde75-a3ea-4c51-82f7-bc58932e3336",
   "metadata": {},
   "outputs": [
    {
     "data": {
      "text/plain": [
       "0    feetsAI\n",
       "1     OpenAI\n",
       "2        xAI\n",
       "dtype: object"
      ]
     },
     "execution_count": 148,
     "metadata": {},
     "output_type": "execute_result"
    }
   ],
   "source": [
    "series"
   ]
  },
  {
   "cell_type": "code",
   "execution_count": 149,
   "id": "8395b5fa-8a8f-4089-8555-53bba9ab2c32",
   "metadata": {},
   "outputs": [
    {
     "data": {
      "text/plain": [
       "0     3bn\n",
       "1    24bn\n",
       "2     7bn\n",
       "dtype: object"
      ]
     },
     "execution_count": 149,
     "metadata": {},
     "output_type": "execute_result"
    }
   ],
   "source": [
    "# series = 1-dimensional\n",
    "mc = pd.Series([\"3bn\",\"24bn\",\"7bn\"])\n",
    "mc"
   ]
  },
  {
   "cell_type": "code",
   "execution_count": 150,
   "id": "81396d30-d315-450a-9822-18d366cc5259",
   "metadata": {},
   "outputs": [
    {
     "data": {
      "text/html": [
       "<div>\n",
       "<style scoped>\n",
       "    .dataframe tbody tr th:only-of-type {\n",
       "        vertical-align: middle;\n",
       "    }\n",
       "\n",
       "    .dataframe tbody tr th {\n",
       "        vertical-align: top;\n",
       "    }\n",
       "\n",
       "    .dataframe thead th {\n",
       "        text-align: right;\n",
       "    }\n",
       "</style>\n",
       "<table border=\"1\" class=\"dataframe\">\n",
       "  <thead>\n",
       "    <tr style=\"text-align: right;\">\n",
       "      <th></th>\n",
       "      <th>Company</th>\n",
       "      <th>Market cap</th>\n",
       "    </tr>\n",
       "  </thead>\n",
       "  <tbody>\n",
       "    <tr>\n",
       "      <th>0</th>\n",
       "      <td>feetsAI</td>\n",
       "      <td>3bn</td>\n",
       "    </tr>\n",
       "    <tr>\n",
       "      <th>1</th>\n",
       "      <td>OpenAI</td>\n",
       "      <td>24bn</td>\n",
       "    </tr>\n",
       "    <tr>\n",
       "      <th>2</th>\n",
       "      <td>xAI</td>\n",
       "      <td>7bn</td>\n",
       "    </tr>\n",
       "  </tbody>\n",
       "</table>\n",
       "</div>"
      ],
      "text/plain": [
       "   Company Market cap\n",
       "0  feetsAI        3bn\n",
       "1   OpenAI       24bn\n",
       "2      xAI        7bn"
      ]
     },
     "execution_count": 150,
     "metadata": {},
     "output_type": "execute_result"
    }
   ],
   "source": [
    "# DataFrame = 2-dimensional\n",
    "company_value = pd.DataFrame({\"Company\":series, \"Market cap\":mc})\n",
    "company_value"
   ]
  },
  {
   "cell_type": "code",
   "execution_count": 151,
   "id": "5ac366ca-d703-4054-b418-afd81b7e3a47",
   "metadata": {},
   "outputs": [
    {
     "data": {
      "text/html": [
       "<div>\n",
       "<style scoped>\n",
       "    .dataframe tbody tr th:only-of-type {\n",
       "        vertical-align: middle;\n",
       "    }\n",
       "\n",
       "    .dataframe tbody tr th {\n",
       "        vertical-align: top;\n",
       "    }\n",
       "\n",
       "    .dataframe thead th {\n",
       "        text-align: right;\n",
       "    }\n",
       "</style>\n",
       "<table border=\"1\" class=\"dataframe\">\n",
       "  <thead>\n",
       "    <tr style=\"text-align: right;\">\n",
       "      <th></th>\n",
       "      <th>Make</th>\n",
       "      <th>Colour</th>\n",
       "      <th>Time</th>\n",
       "      <th>Parameters</th>\n",
       "      <th>Price</th>\n",
       "    </tr>\n",
       "  </thead>\n",
       "  <tbody>\n",
       "    <tr>\n",
       "      <th>0</th>\n",
       "      <td>OpenAI</td>\n",
       "      <td>White</td>\n",
       "      <td>7</td>\n",
       "      <td>126000</td>\n",
       "      <td>$20.00</td>\n",
       "    </tr>\n",
       "    <tr>\n",
       "      <th>1</th>\n",
       "      <td>xAI</td>\n",
       "      <td>Red</td>\n",
       "      <td>6</td>\n",
       "      <td>39000</td>\n",
       "      <td>$7.00</td>\n",
       "    </tr>\n",
       "    <tr>\n",
       "      <th>2</th>\n",
       "      <td>OpenAI</td>\n",
       "      <td>Blue</td>\n",
       "      <td>6</td>\n",
       "      <td>126000</td>\n",
       "      <td>$20.00</td>\n",
       "    </tr>\n",
       "    <tr>\n",
       "      <th>3</th>\n",
       "      <td>xAI</td>\n",
       "      <td>Black</td>\n",
       "      <td>8</td>\n",
       "      <td>39000</td>\n",
       "      <td>$13.00</td>\n",
       "    </tr>\n",
       "    <tr>\n",
       "      <th>4</th>\n",
       "      <td>OpenAI</td>\n",
       "      <td>White</td>\n",
       "      <td>5</td>\n",
       "      <td>126000</td>\n",
       "      <td>$7.00</td>\n",
       "    </tr>\n",
       "    <tr>\n",
       "      <th>5</th>\n",
       "      <td>feetsAI</td>\n",
       "      <td>Green</td>\n",
       "      <td>9</td>\n",
       "      <td>44000</td>\n",
       "      <td>$20.00</td>\n",
       "    </tr>\n",
       "    <tr>\n",
       "      <th>6</th>\n",
       "      <td>xAI</td>\n",
       "      <td>Blue</td>\n",
       "      <td>6</td>\n",
       "      <td>39000</td>\n",
       "      <td>$30.00</td>\n",
       "    </tr>\n",
       "    <tr>\n",
       "      <th>7</th>\n",
       "      <td>feetsAI</td>\n",
       "      <td>Blue</td>\n",
       "      <td>2</td>\n",
       "      <td>44000</td>\n",
       "      <td>$20.00</td>\n",
       "    </tr>\n",
       "    <tr>\n",
       "      <th>8</th>\n",
       "      <td>xAI</td>\n",
       "      <td>White</td>\n",
       "      <td>4</td>\n",
       "      <td>77000</td>\n",
       "      <td>$13.00</td>\n",
       "    </tr>\n",
       "    <tr>\n",
       "      <th>9</th>\n",
       "      <td>OpenAI</td>\n",
       "      <td>White</td>\n",
       "      <td>2</td>\n",
       "      <td>330000</td>\n",
       "      <td>$25.00</td>\n",
       "    </tr>\n",
       "  </tbody>\n",
       "</table>\n",
       "</div>"
      ],
      "text/plain": [
       "      Make Colour  Time  Parameters    Price\n",
       "0   OpenAI  White     7      126000  $20.00 \n",
       "1      xAI    Red     6       39000   $7.00 \n",
       "2   OpenAI   Blue     6      126000  $20.00 \n",
       "3      xAI  Black     8       39000  $13.00 \n",
       "4   OpenAI  White     5      126000   $7.00 \n",
       "5  feetsAI  Green     9       44000  $20.00 \n",
       "6      xAI   Blue     6       39000  $30.00 \n",
       "7  feetsAI   Blue     2       44000  $20.00 \n",
       "8      xAI  White     4       77000  $13.00 \n",
       "9   OpenAI  White     2      330000  $25.00 "
      ]
     },
     "execution_count": 151,
     "metadata": {},
     "output_type": "execute_result"
    }
   ],
   "source": [
    "compare = pd.read_csv(\"c.csv\")\n",
    "compare"
   ]
  },
  {
   "cell_type": "code",
   "execution_count": 152,
   "id": "48690637-b524-4e3c-8de4-01a10def027c",
   "metadata": {},
   "outputs": [],
   "source": [
    "# Exporting a dataframe\n",
    "compare.to_csv(\"exported_c.csv\")\n"
   ]
  },
  {
   "cell_type": "code",
   "execution_count": 153,
   "id": "e66022a3-3a28-4e20-b0df-75029edcdd13",
   "metadata": {},
   "outputs": [
    {
     "data": {
      "text/plain": [
       "Make          object\n",
       "Colour        object\n",
       "Time           int64\n",
       "Parameters     int64\n",
       "Price         object\n",
       "dtype: object"
      ]
     },
     "execution_count": 153,
     "metadata": {},
     "output_type": "execute_result"
    }
   ],
   "source": [
    "# Describe Data\n",
    "compare.dtypes"
   ]
  },
  {
   "cell_type": "code",
   "execution_count": 154,
   "id": "9ab7a076-2935-4241-b16a-546735abe30b",
   "metadata": {},
   "outputs": [
    {
     "data": {
      "text/html": [
       "<div>\n",
       "<style scoped>\n",
       "    .dataframe tbody tr th:only-of-type {\n",
       "        vertical-align: middle;\n",
       "    }\n",
       "\n",
       "    .dataframe tbody tr th {\n",
       "        vertical-align: top;\n",
       "    }\n",
       "\n",
       "    .dataframe thead th {\n",
       "        text-align: right;\n",
       "    }\n",
       "</style>\n",
       "<table border=\"1\" class=\"dataframe\">\n",
       "  <thead>\n",
       "    <tr style=\"text-align: right;\">\n",
       "      <th></th>\n",
       "      <th>Time</th>\n",
       "      <th>Parameters</th>\n",
       "    </tr>\n",
       "  </thead>\n",
       "  <tbody>\n",
       "    <tr>\n",
       "      <th>count</th>\n",
       "      <td>10.000000</td>\n",
       "      <td>10.000000</td>\n",
       "    </tr>\n",
       "    <tr>\n",
       "      <th>mean</th>\n",
       "      <td>5.500000</td>\n",
       "      <td>99000.000000</td>\n",
       "    </tr>\n",
       "    <tr>\n",
       "      <th>std</th>\n",
       "      <td>2.321398</td>\n",
       "      <td>89988.888203</td>\n",
       "    </tr>\n",
       "    <tr>\n",
       "      <th>min</th>\n",
       "      <td>2.000000</td>\n",
       "      <td>39000.000000</td>\n",
       "    </tr>\n",
       "    <tr>\n",
       "      <th>25%</th>\n",
       "      <td>4.250000</td>\n",
       "      <td>40250.000000</td>\n",
       "    </tr>\n",
       "    <tr>\n",
       "      <th>50%</th>\n",
       "      <td>6.000000</td>\n",
       "      <td>60500.000000</td>\n",
       "    </tr>\n",
       "    <tr>\n",
       "      <th>75%</th>\n",
       "      <td>6.750000</td>\n",
       "      <td>126000.000000</td>\n",
       "    </tr>\n",
       "    <tr>\n",
       "      <th>max</th>\n",
       "      <td>9.000000</td>\n",
       "      <td>330000.000000</td>\n",
       "    </tr>\n",
       "  </tbody>\n",
       "</table>\n",
       "</div>"
      ],
      "text/plain": [
       "            Time     Parameters\n",
       "count  10.000000      10.000000\n",
       "mean    5.500000   99000.000000\n",
       "std     2.321398   89988.888203\n",
       "min     2.000000   39000.000000\n",
       "25%     4.250000   40250.000000\n",
       "50%     6.000000   60500.000000\n",
       "75%     6.750000  126000.000000\n",
       "max     9.000000  330000.000000"
      ]
     },
     "execution_count": 154,
     "metadata": {},
     "output_type": "execute_result"
    }
   ],
   "source": [
    "compare.describe()"
   ]
  },
  {
   "cell_type": "code",
   "execution_count": 155,
   "id": "2012fd8a-a8e7-4cb7-ac9c-2b2d6d70f26c",
   "metadata": {},
   "outputs": [
    {
     "name": "stdout",
     "output_type": "stream",
     "text": [
      "<class 'pandas.core.frame.DataFrame'>\n",
      "RangeIndex: 10 entries, 0 to 9\n",
      "Data columns (total 5 columns):\n",
      " #   Column      Non-Null Count  Dtype \n",
      "---  ------      --------------  ----- \n",
      " 0   Make        10 non-null     object\n",
      " 1   Colour      10 non-null     object\n",
      " 2   Time        10 non-null     int64 \n",
      " 3   Parameters  10 non-null     int64 \n",
      " 4   Price       10 non-null     object\n",
      "dtypes: int64(2), object(3)\n",
      "memory usage: 532.0+ bytes\n"
     ]
    }
   ],
   "source": [
    "compare.info()"
   ]
  },
  {
   "cell_type": "code",
   "execution_count": 156,
   "id": "78506256-05bb-4d90-af67-9a32022f8c7d",
   "metadata": {},
   "outputs": [
    {
     "data": {
      "text/plain": [
       "Time              5.5\n",
       "Parameters    99000.0\n",
       "dtype: float64"
      ]
     },
     "execution_count": 156,
     "metadata": {},
     "output_type": "execute_result"
    }
   ],
   "source": [
    "compare.mean(numeric_only=True)"
   ]
  },
  {
   "cell_type": "code",
   "execution_count": 157,
   "id": "ac6530af-e632-47ba-8ff8-38008947aa25",
   "metadata": {},
   "outputs": [
    {
     "data": {
      "text/plain": [
       "'OpenAIxAIOpenAIxAIOpenAIfeetsAIxAIfeetsAIxAIOpenAI'"
      ]
     },
     "execution_count": 157,
     "metadata": {},
     "output_type": "execute_result"
    }
   ],
   "source": [
    "compare[\"Make\"].sum()"
   ]
  },
  {
   "cell_type": "code",
   "execution_count": 158,
   "id": "5d422df7-56a1-4f63-b525-c4f8a8d81f38",
   "metadata": {},
   "outputs": [
    {
     "data": {
      "text/plain": [
       "10"
      ]
     },
     "execution_count": 158,
     "metadata": {},
     "output_type": "execute_result"
    }
   ],
   "source": [
    "len(compare)"
   ]
  },
  {
   "cell_type": "markdown",
   "id": "41460258-0980-47aa-a6cc-8d15527be919",
   "metadata": {},
   "source": [
    "## Viewing and selecting data"
   ]
  },
  {
   "cell_type": "code",
   "execution_count": 159,
   "id": "2a8f3527-1f0f-4785-9324-aff4e013755c",
   "metadata": {},
   "outputs": [
    {
     "data": {
      "text/html": [
       "<div>\n",
       "<style scoped>\n",
       "    .dataframe tbody tr th:only-of-type {\n",
       "        vertical-align: middle;\n",
       "    }\n",
       "\n",
       "    .dataframe tbody tr th {\n",
       "        vertical-align: top;\n",
       "    }\n",
       "\n",
       "    .dataframe thead th {\n",
       "        text-align: right;\n",
       "    }\n",
       "</style>\n",
       "<table border=\"1\" class=\"dataframe\">\n",
       "  <thead>\n",
       "    <tr style=\"text-align: right;\">\n",
       "      <th></th>\n",
       "      <th>Make</th>\n",
       "      <th>Colour</th>\n",
       "      <th>Time</th>\n",
       "      <th>Parameters</th>\n",
       "      <th>Price</th>\n",
       "    </tr>\n",
       "  </thead>\n",
       "  <tbody>\n",
       "    <tr>\n",
       "      <th>0</th>\n",
       "      <td>OpenAI</td>\n",
       "      <td>White</td>\n",
       "      <td>7</td>\n",
       "      <td>126000</td>\n",
       "      <td>$20.00</td>\n",
       "    </tr>\n",
       "    <tr>\n",
       "      <th>1</th>\n",
       "      <td>xAI</td>\n",
       "      <td>Red</td>\n",
       "      <td>6</td>\n",
       "      <td>39000</td>\n",
       "      <td>$7.00</td>\n",
       "    </tr>\n",
       "    <tr>\n",
       "      <th>2</th>\n",
       "      <td>OpenAI</td>\n",
       "      <td>Blue</td>\n",
       "      <td>6</td>\n",
       "      <td>126000</td>\n",
       "      <td>$20.00</td>\n",
       "    </tr>\n",
       "    <tr>\n",
       "      <th>3</th>\n",
       "      <td>xAI</td>\n",
       "      <td>Black</td>\n",
       "      <td>8</td>\n",
       "      <td>39000</td>\n",
       "      <td>$13.00</td>\n",
       "    </tr>\n",
       "    <tr>\n",
       "      <th>4</th>\n",
       "      <td>OpenAI</td>\n",
       "      <td>White</td>\n",
       "      <td>5</td>\n",
       "      <td>126000</td>\n",
       "      <td>$7.00</td>\n",
       "    </tr>\n",
       "    <tr>\n",
       "      <th>5</th>\n",
       "      <td>feetsAI</td>\n",
       "      <td>Green</td>\n",
       "      <td>9</td>\n",
       "      <td>44000</td>\n",
       "      <td>$20.00</td>\n",
       "    </tr>\n",
       "  </tbody>\n",
       "</table>\n",
       "</div>"
      ],
      "text/plain": [
       "      Make Colour  Time  Parameters    Price\n",
       "0   OpenAI  White     7      126000  $20.00 \n",
       "1      xAI    Red     6       39000   $7.00 \n",
       "2   OpenAI   Blue     6      126000  $20.00 \n",
       "3      xAI  Black     8       39000  $13.00 \n",
       "4   OpenAI  White     5      126000   $7.00 \n",
       "5  feetsAI  Green     9       44000  $20.00 "
      ]
     },
     "execution_count": 159,
     "metadata": {},
     "output_type": "execute_result"
    }
   ],
   "source": [
    "compare.head(6)"
   ]
  },
  {
   "cell_type": "code",
   "execution_count": 160,
   "id": "b4c2ecf6-9564-4ae7-8cc1-7d6e007ba680",
   "metadata": {},
   "outputs": [
    {
     "data": {
      "text/html": [
       "<div>\n",
       "<style scoped>\n",
       "    .dataframe tbody tr th:only-of-type {\n",
       "        vertical-align: middle;\n",
       "    }\n",
       "\n",
       "    .dataframe tbody tr th {\n",
       "        vertical-align: top;\n",
       "    }\n",
       "\n",
       "    .dataframe thead th {\n",
       "        text-align: right;\n",
       "    }\n",
       "</style>\n",
       "<table border=\"1\" class=\"dataframe\">\n",
       "  <thead>\n",
       "    <tr style=\"text-align: right;\">\n",
       "      <th></th>\n",
       "      <th>Make</th>\n",
       "      <th>Colour</th>\n",
       "      <th>Time</th>\n",
       "      <th>Parameters</th>\n",
       "      <th>Price</th>\n",
       "    </tr>\n",
       "  </thead>\n",
       "  <tbody>\n",
       "    <tr>\n",
       "      <th>9</th>\n",
       "      <td>OpenAI</td>\n",
       "      <td>White</td>\n",
       "      <td>2</td>\n",
       "      <td>330000</td>\n",
       "      <td>$25.00</td>\n",
       "    </tr>\n",
       "  </tbody>\n",
       "</table>\n",
       "</div>"
      ],
      "text/plain": [
       "     Make Colour  Time  Parameters    Price\n",
       "9  OpenAI  White     2      330000  $25.00 "
      ]
     },
     "execution_count": 160,
     "metadata": {},
     "output_type": "execute_result"
    }
   ],
   "source": [
    "compare.tail(1)"
   ]
  },
  {
   "cell_type": "code",
   "execution_count": 161,
   "id": "88dddbe2-377f-4dd3-bdc0-7cfb9053f44e",
   "metadata": {},
   "outputs": [
    {
     "data": {
      "text/plain": [
       "0     OpenAI\n",
       "1        xAI\n",
       "2     OpenAI\n",
       "3        xAI\n",
       "4     OpenAI\n",
       "5    feetsAI\n",
       "6        xAI\n",
       "7    feetsAI\n",
       "8        xAI\n",
       "9     OpenAI\n",
       "Name: Make, dtype: object"
      ]
     },
     "execution_count": 161,
     "metadata": {},
     "output_type": "execute_result"
    }
   ],
   "source": [
    "compare[\"Make\"]"
   ]
  },
  {
   "cell_type": "code",
   "execution_count": 162,
   "id": "7459fa76-fadd-4886-a68f-904a8d212265",
   "metadata": {},
   "outputs": [
    {
     "data": {
      "text/plain": [
       "0     OpenAI\n",
       "1        xAI\n",
       "2     OpenAI\n",
       "3        xAI\n",
       "4     OpenAI\n",
       "5    feetsAI\n",
       "6        xAI\n",
       "7    feetsAI\n",
       "8        xAI\n",
       "9     OpenAI\n",
       "Name: Make, dtype: object"
      ]
     },
     "execution_count": 162,
     "metadata": {},
     "output_type": "execute_result"
    }
   ],
   "source": [
    "compare.Make"
   ]
  },
  {
   "cell_type": "code",
   "execution_count": 163,
   "id": "7f849fe9-59c2-405a-aece-dc01d5215cc2",
   "metadata": {},
   "outputs": [
    {
     "data": {
      "text/html": [
       "<div>\n",
       "<style scoped>\n",
       "    .dataframe tbody tr th:only-of-type {\n",
       "        vertical-align: middle;\n",
       "    }\n",
       "\n",
       "    .dataframe tbody tr th {\n",
       "        vertical-align: top;\n",
       "    }\n",
       "\n",
       "    .dataframe thead th {\n",
       "        text-align: right;\n",
       "    }\n",
       "</style>\n",
       "<table border=\"1\" class=\"dataframe\">\n",
       "  <thead>\n",
       "    <tr style=\"text-align: right;\">\n",
       "      <th></th>\n",
       "      <th>Make</th>\n",
       "      <th>Colour</th>\n",
       "      <th>Time</th>\n",
       "      <th>Parameters</th>\n",
       "      <th>Price</th>\n",
       "    </tr>\n",
       "  </thead>\n",
       "  <tbody>\n",
       "    <tr>\n",
       "      <th>0</th>\n",
       "      <td>OpenAI</td>\n",
       "      <td>White</td>\n",
       "      <td>7</td>\n",
       "      <td>126000</td>\n",
       "      <td>$20.00</td>\n",
       "    </tr>\n",
       "    <tr>\n",
       "      <th>2</th>\n",
       "      <td>OpenAI</td>\n",
       "      <td>Blue</td>\n",
       "      <td>6</td>\n",
       "      <td>126000</td>\n",
       "      <td>$20.00</td>\n",
       "    </tr>\n",
       "    <tr>\n",
       "      <th>4</th>\n",
       "      <td>OpenAI</td>\n",
       "      <td>White</td>\n",
       "      <td>5</td>\n",
       "      <td>126000</td>\n",
       "      <td>$7.00</td>\n",
       "    </tr>\n",
       "    <tr>\n",
       "      <th>9</th>\n",
       "      <td>OpenAI</td>\n",
       "      <td>White</td>\n",
       "      <td>2</td>\n",
       "      <td>330000</td>\n",
       "      <td>$25.00</td>\n",
       "    </tr>\n",
       "  </tbody>\n",
       "</table>\n",
       "</div>"
      ],
      "text/plain": [
       "     Make Colour  Time  Parameters    Price\n",
       "0  OpenAI  White     7      126000  $20.00 \n",
       "2  OpenAI   Blue     6      126000  $20.00 \n",
       "4  OpenAI  White     5      126000   $7.00 \n",
       "9  OpenAI  White     2      330000  $25.00 "
      ]
     },
     "execution_count": 163,
     "metadata": {},
     "output_type": "execute_result"
    }
   ],
   "source": [
    "compare[compare.Make == \"OpenAI\"]"
   ]
  },
  {
   "cell_type": "code",
   "execution_count": 164,
   "id": "45eace5d-5b39-4186-981a-5c61aaa4a480",
   "metadata": {},
   "outputs": [
    {
     "data": {
      "text/html": [
       "<div>\n",
       "<style scoped>\n",
       "    .dataframe tbody tr th:only-of-type {\n",
       "        vertical-align: middle;\n",
       "    }\n",
       "\n",
       "    .dataframe tbody tr th {\n",
       "        vertical-align: top;\n",
       "    }\n",
       "\n",
       "    .dataframe thead th {\n",
       "        text-align: right;\n",
       "    }\n",
       "</style>\n",
       "<table border=\"1\" class=\"dataframe\">\n",
       "  <thead>\n",
       "    <tr style=\"text-align: right;\">\n",
       "      <th></th>\n",
       "      <th>Make</th>\n",
       "      <th>Colour</th>\n",
       "      <th>Time</th>\n",
       "      <th>Parameters</th>\n",
       "      <th>Price</th>\n",
       "    </tr>\n",
       "  </thead>\n",
       "  <tbody>\n",
       "    <tr>\n",
       "      <th>9</th>\n",
       "      <td>OpenAI</td>\n",
       "      <td>White</td>\n",
       "      <td>2</td>\n",
       "      <td>330000</td>\n",
       "      <td>$25.00</td>\n",
       "    </tr>\n",
       "  </tbody>\n",
       "</table>\n",
       "</div>"
      ],
      "text/plain": [
       "     Make Colour  Time  Parameters    Price\n",
       "9  OpenAI  White     2      330000  $25.00 "
      ]
     },
     "execution_count": 164,
     "metadata": {},
     "output_type": "execute_result"
    }
   ],
   "source": [
    "compare[compare.Parameters> 300000]"
   ]
  },
  {
   "cell_type": "code",
   "execution_count": 165,
   "id": "9248cac9-20cd-4da7-83f0-72e4c50e4f6d",
   "metadata": {},
   "outputs": [
    {
     "data": {
      "text/html": [
       "<div>\n",
       "<style scoped>\n",
       "    .dataframe tbody tr th:only-of-type {\n",
       "        vertical-align: middle;\n",
       "    }\n",
       "\n",
       "    .dataframe tbody tr th {\n",
       "        vertical-align: top;\n",
       "    }\n",
       "\n",
       "    .dataframe thead th {\n",
       "        text-align: right;\n",
       "    }\n",
       "</style>\n",
       "<table border=\"1\" class=\"dataframe\">\n",
       "  <thead>\n",
       "    <tr style=\"text-align: right;\">\n",
       "      <th>Price</th>\n",
       "      <th>$13.00</th>\n",
       "      <th>$20.00</th>\n",
       "      <th>$25.00</th>\n",
       "      <th>$30.00</th>\n",
       "      <th>$7.00</th>\n",
       "    </tr>\n",
       "    <tr>\n",
       "      <th>Make</th>\n",
       "      <th></th>\n",
       "      <th></th>\n",
       "      <th></th>\n",
       "      <th></th>\n",
       "      <th></th>\n",
       "    </tr>\n",
       "  </thead>\n",
       "  <tbody>\n",
       "    <tr>\n",
       "      <th>OpenAI</th>\n",
       "      <td>0</td>\n",
       "      <td>2</td>\n",
       "      <td>1</td>\n",
       "      <td>0</td>\n",
       "      <td>1</td>\n",
       "    </tr>\n",
       "    <tr>\n",
       "      <th>feetsAI</th>\n",
       "      <td>0</td>\n",
       "      <td>2</td>\n",
       "      <td>0</td>\n",
       "      <td>0</td>\n",
       "      <td>0</td>\n",
       "    </tr>\n",
       "    <tr>\n",
       "      <th>xAI</th>\n",
       "      <td>2</td>\n",
       "      <td>0</td>\n",
       "      <td>0</td>\n",
       "      <td>1</td>\n",
       "      <td>1</td>\n",
       "    </tr>\n",
       "  </tbody>\n",
       "</table>\n",
       "</div>"
      ],
      "text/plain": [
       "Price    $13.00   $20.00   $25.00   $30.00   $7.00 \n",
       "Make                                               \n",
       "OpenAI         0        2        1        0       1\n",
       "feetsAI        0        2        0        0       0\n",
       "xAI            2        0        0        1       1"
      ]
     },
     "execution_count": 165,
     "metadata": {},
     "output_type": "execute_result"
    }
   ],
   "source": [
    "pd.crosstab(compare.Make, compare.Price)"
   ]
  },
  {
   "cell_type": "code",
   "execution_count": 166,
   "id": "1d38ef9a-29c9-4e33-9c00-0e2249c05b52",
   "metadata": {},
   "outputs": [
    {
     "data": {
      "text/html": [
       "<div>\n",
       "<style scoped>\n",
       "    .dataframe tbody tr th:only-of-type {\n",
       "        vertical-align: middle;\n",
       "    }\n",
       "\n",
       "    .dataframe tbody tr th {\n",
       "        vertical-align: top;\n",
       "    }\n",
       "\n",
       "    .dataframe thead th {\n",
       "        text-align: right;\n",
       "    }\n",
       "</style>\n",
       "<table border=\"1\" class=\"dataframe\">\n",
       "  <thead>\n",
       "    <tr style=\"text-align: right;\">\n",
       "      <th></th>\n",
       "      <th>Time</th>\n",
       "      <th>Parameters</th>\n",
       "    </tr>\n",
       "    <tr>\n",
       "      <th>Make</th>\n",
       "      <th></th>\n",
       "      <th></th>\n",
       "    </tr>\n",
       "  </thead>\n",
       "  <tbody>\n",
       "    <tr>\n",
       "      <th>OpenAI</th>\n",
       "      <td>5.0</td>\n",
       "      <td>177000.0</td>\n",
       "    </tr>\n",
       "    <tr>\n",
       "      <th>feetsAI</th>\n",
       "      <td>5.5</td>\n",
       "      <td>44000.0</td>\n",
       "    </tr>\n",
       "    <tr>\n",
       "      <th>xAI</th>\n",
       "      <td>6.0</td>\n",
       "      <td>48500.0</td>\n",
       "    </tr>\n",
       "  </tbody>\n",
       "</table>\n",
       "</div>"
      ],
      "text/plain": [
       "         Time  Parameters\n",
       "Make                     \n",
       "OpenAI    5.0    177000.0\n",
       "feetsAI   5.5     44000.0\n",
       "xAI       6.0     48500.0"
      ]
     },
     "execution_count": 166,
     "metadata": {},
     "output_type": "execute_result"
    }
   ],
   "source": [
    "# Groupby\n",
    "compare.groupby([\"Make\"]).mean(numeric_only=True)"
   ]
  },
  {
   "cell_type": "code",
   "execution_count": 167,
   "id": "401deccf-fcde-4dde-b9d9-cdb9679f29c7",
   "metadata": {},
   "outputs": [
    {
     "data": {
      "text/plain": [
       "<Axes: >"
      ]
     },
     "execution_count": 167,
     "metadata": {},
     "output_type": "execute_result"
    },
    {
     "data": {
      "image/png": "[encoded data removed]",
      "text/plain": [
       "<Figure size 640x480 with 1 Axes>"
      ]
     },
     "metadata": {},
     "output_type": "display_data"
    }
   ],
   "source": [
    "compare[\"Parameters\"].plot()"
   ]
  },
  {
   "cell_type": "code",
   "execution_count": 168,
   "id": "5fdfd0b2-01a1-4fa1-87bf-176e6ef2107b",
   "metadata": {},
   "outputs": [
    {
     "data": {
      "text/plain": [
       "<Axes: >"
      ]
     },
     "execution_count": 168,
     "metadata": {},
     "output_type": "execute_result"
    },
    {
     "data": {
      "image/png": "[encoded data removed]",
      "text/plain": [
       "<Figure size 640x480 with 1 Axes>"
      ]
     },
     "metadata": {},
     "output_type": "display_data"
    }
   ],
   "source": [
    "compare[\"Parameters\"].hist()"
   ]
  },
  {
   "cell_type": "code",
   "execution_count": 169,
   "id": "1d205a2f-8116-4502-846a-00ca9ce065a9",
   "metadata": {},
   "outputs": [
    {
     "name": "stderr",
     "output_type": "stream",
     "text": [
      "<>:1: SyntaxWarning: invalid escape sequence '\\$'\n",
      "<>:1: SyntaxWarning: invalid escape sequence '\\$'\n",
      "/var/folders/z_/m5ljv2sn2kqf6130ryrsw_c00000gn/T/ipykernel_8579/2770494005.py:1: SyntaxWarning: invalid escape sequence '\\$'\n",
      "  compare[\"Price\"] = compare[\"Price\"].replace('[\\$\\,]', '', regex=True).astype(float)\n"
     ]
    },
    {
     "data": {
      "text/html": [
       "<div>\n",
       "<style scoped>\n",
       "    .dataframe tbody tr th:only-of-type {\n",
       "        vertical-align: middle;\n",
       "    }\n",
       "\n",
       "    .dataframe tbody tr th {\n",
       "        vertical-align: top;\n",
       "    }\n",
       "\n",
       "    .dataframe thead th {\n",
       "        text-align: right;\n",
       "    }\n",
       "</style>\n",
       "<table border=\"1\" class=\"dataframe\">\n",
       "  <thead>\n",
       "    <tr style=\"text-align: right;\">\n",
       "      <th></th>\n",
       "      <th>Make</th>\n",
       "      <th>Colour</th>\n",
       "      <th>Time</th>\n",
       "      <th>Parameters</th>\n",
       "      <th>Price</th>\n",
       "    </tr>\n",
       "  </thead>\n",
       "  <tbody>\n",
       "    <tr>\n",
       "      <th>0</th>\n",
       "      <td>OpenAI</td>\n",
       "      <td>White</td>\n",
       "      <td>7</td>\n",
       "      <td>126000</td>\n",
       "      <td>20.0</td>\n",
       "    </tr>\n",
       "    <tr>\n",
       "      <th>1</th>\n",
       "      <td>xAI</td>\n",
       "      <td>Red</td>\n",
       "      <td>6</td>\n",
       "      <td>39000</td>\n",
       "      <td>7.0</td>\n",
       "    </tr>\n",
       "    <tr>\n",
       "      <th>2</th>\n",
       "      <td>OpenAI</td>\n",
       "      <td>Blue</td>\n",
       "      <td>6</td>\n",
       "      <td>126000</td>\n",
       "      <td>20.0</td>\n",
       "    </tr>\n",
       "    <tr>\n",
       "      <th>3</th>\n",
       "      <td>xAI</td>\n",
       "      <td>Black</td>\n",
       "      <td>8</td>\n",
       "      <td>39000</td>\n",
       "      <td>13.0</td>\n",
       "    </tr>\n",
       "    <tr>\n",
       "      <th>4</th>\n",
       "      <td>OpenAI</td>\n",
       "      <td>White</td>\n",
       "      <td>5</td>\n",
       "      <td>126000</td>\n",
       "      <td>7.0</td>\n",
       "    </tr>\n",
       "    <tr>\n",
       "      <th>5</th>\n",
       "      <td>feetsAI</td>\n",
       "      <td>Green</td>\n",
       "      <td>9</td>\n",
       "      <td>44000</td>\n",
       "      <td>20.0</td>\n",
       "    </tr>\n",
       "    <tr>\n",
       "      <th>6</th>\n",
       "      <td>xAI</td>\n",
       "      <td>Blue</td>\n",
       "      <td>6</td>\n",
       "      <td>39000</td>\n",
       "      <td>30.0</td>\n",
       "    </tr>\n",
       "    <tr>\n",
       "      <th>7</th>\n",
       "      <td>feetsAI</td>\n",
       "      <td>Blue</td>\n",
       "      <td>2</td>\n",
       "      <td>44000</td>\n",
       "      <td>20.0</td>\n",
       "    </tr>\n",
       "    <tr>\n",
       "      <th>8</th>\n",
       "      <td>xAI</td>\n",
       "      <td>White</td>\n",
       "      <td>4</td>\n",
       "      <td>77000</td>\n",
       "      <td>13.0</td>\n",
       "    </tr>\n",
       "    <tr>\n",
       "      <th>9</th>\n",
       "      <td>OpenAI</td>\n",
       "      <td>White</td>\n",
       "      <td>2</td>\n",
       "      <td>330000</td>\n",
       "      <td>25.0</td>\n",
       "    </tr>\n",
       "  </tbody>\n",
       "</table>\n",
       "</div>"
      ],
      "text/plain": [
       "      Make Colour  Time  Parameters  Price\n",
       "0   OpenAI  White     7      126000   20.0\n",
       "1      xAI    Red     6       39000    7.0\n",
       "2   OpenAI   Blue     6      126000   20.0\n",
       "3      xAI  Black     8       39000   13.0\n",
       "4   OpenAI  White     5      126000    7.0\n",
       "5  feetsAI  Green     9       44000   20.0\n",
       "6      xAI   Blue     6       39000   30.0\n",
       "7  feetsAI   Blue     2       44000   20.0\n",
       "8      xAI  White     4       77000   13.0\n",
       "9   OpenAI  White     2      330000   25.0"
      ]
     },
     "execution_count": 169,
     "metadata": {},
     "output_type": "execute_result"
    }
   ],
   "source": [
    "compare[\"Price\"] = compare[\"Price\"].replace('[\\$\\,]', '', regex=True).astype(float)\n",
    "compare"
   ]
  },
  {
   "cell_type": "code",
   "execution_count": 170,
   "id": "cf617611-f12d-4b91-a420-f609b063442d",
   "metadata": {},
   "outputs": [
    {
     "data": {
      "text/plain": [
       "<Axes: >"
      ]
     },
     "execution_count": 170,
     "metadata": {},
     "output_type": "execute_result"
    },
    {
     "data": {
      "image/png": "[encoded data removed]",
      "text/plain": [
       "<Figure size 640x480 with 1 Axes>"
      ]
     },
     "metadata": {},
     "output_type": "display_data"
    }
   ],
   "source": [
    "compare[\"Price\"].plot()"
   ]
  },
  {
   "cell_type": "markdown",
   "id": "fe19cf92-d93d-4a82-a387-e421c73d4af1",
   "metadata": {},
   "source": [
    "## Manipulating Data"
   ]
  },
  {
   "cell_type": "code",
   "execution_count": 171,
   "id": "5f7c01e9-11cf-4a28-9e00-cbbdbc153ace",
   "metadata": {},
   "outputs": [
    {
     "data": {
      "text/plain": [
       "0     openai\n",
       "1        xai\n",
       "2     openai\n",
       "3        xai\n",
       "4     openai\n",
       "5    feetsai\n",
       "6        xai\n",
       "7    feetsai\n",
       "8        xai\n",
       "9     openai\n",
       "Name: Make, dtype: object"
      ]
     },
     "execution_count": 171,
     "metadata": {},
     "output_type": "execute_result"
    }
   ],
   "source": [
    "compare[\"Make\"].str.lower()"
   ]
  },
  {
   "cell_type": "code",
   "execution_count": 172,
   "id": "a39b028c-b8df-4b10-8cc2-c99bbf732a7c",
   "metadata": {},
   "outputs": [],
   "source": [
    "# In case of missing data we make every Nan the same number of average\n",
    "# compare_missing[\"Price\"].fillna(compare_missing[\"Price\"].mean(), inplace=False\n",
    "# Or we can simply drop them\n",
    "# compare-missing.dropna(inplace=True)"
   ]
  },
  {
   "cell_type": "code",
   "execution_count": 173,
   "id": "d45cd8ca-6f18-4d69-8ac4-77a863a5fdf9",
   "metadata": {},
   "outputs": [
    {
     "data": {
      "text/html": [
       "<div>\n",
       "<style scoped>\n",
       "    .dataframe tbody tr th:only-of-type {\n",
       "        vertical-align: middle;\n",
       "    }\n",
       "\n",
       "    .dataframe tbody tr th {\n",
       "        vertical-align: top;\n",
       "    }\n",
       "\n",
       "    .dataframe thead th {\n",
       "        text-align: right;\n",
       "    }\n",
       "</style>\n",
       "<table border=\"1\" class=\"dataframe\">\n",
       "  <thead>\n",
       "    <tr style=\"text-align: right;\">\n",
       "      <th></th>\n",
       "      <th>Make</th>\n",
       "      <th>Colour</th>\n",
       "      <th>Time</th>\n",
       "      <th>Parameters</th>\n",
       "      <th>Price</th>\n",
       "      <th>Year</th>\n",
       "    </tr>\n",
       "  </thead>\n",
       "  <tbody>\n",
       "    <tr>\n",
       "      <th>0</th>\n",
       "      <td>OpenAI</td>\n",
       "      <td>White</td>\n",
       "      <td>7</td>\n",
       "      <td>126000</td>\n",
       "      <td>20.0</td>\n",
       "      <td>2023.0</td>\n",
       "    </tr>\n",
       "    <tr>\n",
       "      <th>1</th>\n",
       "      <td>xAI</td>\n",
       "      <td>Red</td>\n",
       "      <td>6</td>\n",
       "      <td>39000</td>\n",
       "      <td>7.0</td>\n",
       "      <td>2024.0</td>\n",
       "    </tr>\n",
       "    <tr>\n",
       "      <th>2</th>\n",
       "      <td>OpenAI</td>\n",
       "      <td>Blue</td>\n",
       "      <td>6</td>\n",
       "      <td>126000</td>\n",
       "      <td>20.0</td>\n",
       "      <td>2022.0</td>\n",
       "    </tr>\n",
       "    <tr>\n",
       "      <th>3</th>\n",
       "      <td>xAI</td>\n",
       "      <td>Black</td>\n",
       "      <td>8</td>\n",
       "      <td>39000</td>\n",
       "      <td>13.0</td>\n",
       "      <td>2025.0</td>\n",
       "    </tr>\n",
       "    <tr>\n",
       "      <th>4</th>\n",
       "      <td>OpenAI</td>\n",
       "      <td>White</td>\n",
       "      <td>5</td>\n",
       "      <td>126000</td>\n",
       "      <td>7.0</td>\n",
       "      <td>2023.0</td>\n",
       "    </tr>\n",
       "    <tr>\n",
       "      <th>5</th>\n",
       "      <td>feetsAI</td>\n",
       "      <td>Green</td>\n",
       "      <td>9</td>\n",
       "      <td>44000</td>\n",
       "      <td>20.0</td>\n",
       "      <td>NaN</td>\n",
       "    </tr>\n",
       "    <tr>\n",
       "      <th>6</th>\n",
       "      <td>xAI</td>\n",
       "      <td>Blue</td>\n",
       "      <td>6</td>\n",
       "      <td>39000</td>\n",
       "      <td>30.0</td>\n",
       "      <td>NaN</td>\n",
       "    </tr>\n",
       "    <tr>\n",
       "      <th>7</th>\n",
       "      <td>feetsAI</td>\n",
       "      <td>Blue</td>\n",
       "      <td>2</td>\n",
       "      <td>44000</td>\n",
       "      <td>20.0</td>\n",
       "      <td>NaN</td>\n",
       "    </tr>\n",
       "    <tr>\n",
       "      <th>8</th>\n",
       "      <td>xAI</td>\n",
       "      <td>White</td>\n",
       "      <td>4</td>\n",
       "      <td>77000</td>\n",
       "      <td>13.0</td>\n",
       "      <td>NaN</td>\n",
       "    </tr>\n",
       "    <tr>\n",
       "      <th>9</th>\n",
       "      <td>OpenAI</td>\n",
       "      <td>White</td>\n",
       "      <td>2</td>\n",
       "      <td>330000</td>\n",
       "      <td>25.0</td>\n",
       "      <td>NaN</td>\n",
       "    </tr>\n",
       "  </tbody>\n",
       "</table>\n",
       "</div>"
      ],
      "text/plain": [
       "      Make Colour  Time  Parameters  Price    Year\n",
       "0   OpenAI  White     7      126000   20.0  2023.0\n",
       "1      xAI    Red     6       39000    7.0  2024.0\n",
       "2   OpenAI   Blue     6      126000   20.0  2022.0\n",
       "3      xAI  Black     8       39000   13.0  2025.0\n",
       "4   OpenAI  White     5      126000    7.0  2023.0\n",
       "5  feetsAI  Green     9       44000   20.0     NaN\n",
       "6      xAI   Blue     6       39000   30.0     NaN\n",
       "7  feetsAI   Blue     2       44000   20.0     NaN\n",
       "8      xAI  White     4       77000   13.0     NaN\n",
       "9   OpenAI  White     2      330000   25.0     NaN"
      ]
     },
     "execution_count": 173,
     "metadata": {},
     "output_type": "execute_result"
    }
   ],
   "source": [
    "# Adding column to the table\n",
    "new_column = pd.Series([2023, 2024, 2022, 2025, 2023])\n",
    "compare[\"Year\"] = new_column \n",
    "compare"
   ]
  },
  {
   "cell_type": "code",
   "execution_count": 180,
   "id": "f1feb723-1870-44c5-bc08-60b187382620",
   "metadata": {},
   "outputs": [
    {
     "name": "stderr",
     "output_type": "stream",
     "text": [
      "/var/folders/z_/m5ljv2sn2kqf6130ryrsw_c00000gn/T/ipykernel_8579/986048294.py:2: FutureWarning: A value is trying to be set on a copy of a DataFrame or Series through chained assignment using an inplace method.\n",
      "The behavior will change in pandas 3.0. This inplace method will never work because the intermediate object on which we are setting values always behaves as a copy.\n",
      "\n",
      "For example, when doing 'df[col].method(value, inplace=True)', try using 'df.method({col: value}, inplace=True)' or df[col] = df[col].method(value) instead, to perform the operation inplace on the original object.\n",
      "\n",
      "\n",
      "  compare[\"Year\"].fillna(2024,inplace=True)\n"
     ]
    },
    {
     "data": {
      "text/html": [
       "<div>\n",
       "<style scoped>\n",
       "    .dataframe tbody tr th:only-of-type {\n",
       "        vertical-align: middle;\n",
       "    }\n",
       "\n",
       "    .dataframe tbody tr th {\n",
       "        vertical-align: top;\n",
       "    }\n",
       "\n",
       "    .dataframe thead th {\n",
       "        text-align: right;\n",
       "    }\n",
       "</style>\n",
       "<table border=\"1\" class=\"dataframe\">\n",
       "  <thead>\n",
       "    <tr style=\"text-align: right;\">\n",
       "      <th></th>\n",
       "      <th>Make</th>\n",
       "      <th>Colour</th>\n",
       "      <th>Time</th>\n",
       "      <th>Parameters</th>\n",
       "      <th>Price</th>\n",
       "      <th>Year</th>\n",
       "    </tr>\n",
       "  </thead>\n",
       "  <tbody>\n",
       "    <tr>\n",
       "      <th>0</th>\n",
       "      <td>OpenAI</td>\n",
       "      <td>White</td>\n",
       "      <td>7</td>\n",
       "      <td>126000</td>\n",
       "      <td>20.0</td>\n",
       "      <td>2023.0</td>\n",
       "    </tr>\n",
       "    <tr>\n",
       "      <th>1</th>\n",
       "      <td>xAI</td>\n",
       "      <td>Red</td>\n",
       "      <td>6</td>\n",
       "      <td>39000</td>\n",
       "      <td>7.0</td>\n",
       "      <td>2024.0</td>\n",
       "    </tr>\n",
       "    <tr>\n",
       "      <th>2</th>\n",
       "      <td>OpenAI</td>\n",
       "      <td>Blue</td>\n",
       "      <td>6</td>\n",
       "      <td>126000</td>\n",
       "      <td>20.0</td>\n",
       "      <td>2022.0</td>\n",
       "    </tr>\n",
       "    <tr>\n",
       "      <th>3</th>\n",
       "      <td>xAI</td>\n",
       "      <td>Black</td>\n",
       "      <td>8</td>\n",
       "      <td>39000</td>\n",
       "      <td>13.0</td>\n",
       "      <td>2025.0</td>\n",
       "    </tr>\n",
       "    <tr>\n",
       "      <th>4</th>\n",
       "      <td>OpenAI</td>\n",
       "      <td>White</td>\n",
       "      <td>5</td>\n",
       "      <td>126000</td>\n",
       "      <td>7.0</td>\n",
       "      <td>2023.0</td>\n",
       "    </tr>\n",
       "    <tr>\n",
       "      <th>5</th>\n",
       "      <td>feetsAI</td>\n",
       "      <td>Green</td>\n",
       "      <td>9</td>\n",
       "      <td>44000</td>\n",
       "      <td>20.0</td>\n",
       "      <td>2024.0</td>\n",
       "    </tr>\n",
       "    <tr>\n",
       "      <th>6</th>\n",
       "      <td>xAI</td>\n",
       "      <td>Blue</td>\n",
       "      <td>6</td>\n",
       "      <td>39000</td>\n",
       "      <td>30.0</td>\n",
       "      <td>2024.0</td>\n",
       "    </tr>\n",
       "    <tr>\n",
       "      <th>7</th>\n",
       "      <td>feetsAI</td>\n",
       "      <td>Blue</td>\n",
       "      <td>2</td>\n",
       "      <td>44000</td>\n",
       "      <td>20.0</td>\n",
       "      <td>2024.0</td>\n",
       "    </tr>\n",
       "    <tr>\n",
       "      <th>8</th>\n",
       "      <td>xAI</td>\n",
       "      <td>White</td>\n",
       "      <td>4</td>\n",
       "      <td>77000</td>\n",
       "      <td>13.0</td>\n",
       "      <td>2024.0</td>\n",
       "    </tr>\n",
       "    <tr>\n",
       "      <th>9</th>\n",
       "      <td>OpenAI</td>\n",
       "      <td>White</td>\n",
       "      <td>2</td>\n",
       "      <td>330000</td>\n",
       "      <td>25.0</td>\n",
       "      <td>2024.0</td>\n",
       "    </tr>\n",
       "  </tbody>\n",
       "</table>\n",
       "</div>"
      ],
      "text/plain": [
       "      Make Colour  Time  Parameters  Price    Year\n",
       "0   OpenAI  White     7      126000   20.0  2023.0\n",
       "1      xAI    Red     6       39000    7.0  2024.0\n",
       "2   OpenAI   Blue     6      126000   20.0  2022.0\n",
       "3      xAI  Black     8       39000   13.0  2025.0\n",
       "4   OpenAI  White     5      126000    7.0  2023.0\n",
       "5  feetsAI  Green     9       44000   20.0  2024.0\n",
       "6      xAI   Blue     6       39000   30.0  2024.0\n",
       "7  feetsAI   Blue     2       44000   20.0  2024.0\n",
       "8      xAI  White     4       77000   13.0  2024.0\n",
       "9   OpenAI  White     2      330000   25.0  2024.0"
      ]
     },
     "execution_count": 180,
     "metadata": {},
     "output_type": "execute_result"
    }
   ],
   "source": [
    "#To fill Nan with a value\n",
    "compare[\"Year\"].fillna(2024,inplace=True)\n",
    "compare"
   ]
  },
  {
   "cell_type": "code",
   "execution_count": 177,
   "id": "3077eb3f-1744-4690-8d3c-878104c2e47c",
   "metadata": {},
   "outputs": [],
   "source": [
    "#Randomizing data\n",
    "#compare-random=compare.sample(frac=1)"
   ]
  }
 ],
 "metadata": {
  "kernelspec": {
   "display_name": "Python 3 (ipykernel)",
   "language": "python",
   "name": "python3"
  },
  "language_info": {
   "codemirror_mode": {
    "name": "ipython",
    "version": 3
   },
   "file_extension": ".py",
   "mimetype": "text/x-python",
   "name": "python",
   "nbconvert_exporter": "python",
   "pygments_lexer": "ipython3",
   "version": "3.12.7"
  }
 },
 "nbformat": 4,
 "nbformat_minor": 5
}
